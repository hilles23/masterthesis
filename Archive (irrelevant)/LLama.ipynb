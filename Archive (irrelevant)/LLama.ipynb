{
 "cells": [
  {
   "cell_type": "code",
   "execution_count": 1,
   "metadata": {},
   "outputs": [
    {
     "name": "stderr",
     "output_type": "stream",
     "text": [
      "/home/hilles/env/lib/python3.10/site-packages/tqdm/auto.py:21: TqdmWarning: IProgress not found. Please update jupyter and ipywidgets. See https://ipywidgets.readthedocs.io/en/stable/user_install.html\n",
      "  from .autonotebook import tqdm as notebook_tqdm\n"
     ]
    },
    {
     "ename": "ValueError",
     "evalue": "Token bored-dash not found in /home/hilles/.cache/huggingface/stored_tokens",
     "output_type": "error",
     "traceback": [
      "\u001b[0;31m---------------------------------------------------------------------------\u001b[0m",
      "\u001b[0;31mValueError\u001b[0m                                Traceback (most recent call last)",
      "Cell \u001b[0;32mIn[1], line 4\u001b[0m\n\u001b[1;32m      2\u001b[0m \u001b[38;5;28;01mfrom\u001b[39;00m \u001b[38;5;21;01mhuggingface_hub\u001b[39;00m \u001b[38;5;28;01mimport\u001b[39;00m login\n\u001b[1;32m      3\u001b[0m access_token_read \u001b[38;5;241m=\u001b[39m \u001b[38;5;124m\"\u001b[39m\u001b[38;5;124m\"\u001b[39m\n\u001b[0;32m----> 4\u001b[0m \u001b[43mlogin\u001b[49m\u001b[43m(\u001b[49m\u001b[43mtoken\u001b[49m\u001b[43m \u001b[49m\u001b[38;5;241;43m=\u001b[39;49m\u001b[43m \u001b[49m\u001b[43maccess_token_read\u001b[49m\u001b[43m)\u001b[49m\n",
      "File \u001b[0;32m~/env/lib/python3.10/site-packages/huggingface_hub/_login.py:119\u001b[0m, in \u001b[0;36mlogin\u001b[0;34m(token, add_to_git_credential, new_session, write_permission)\u001b[0m\n\u001b[1;32m    112\u001b[0m     \u001b[38;5;28;01mif\u001b[39;00m \u001b[38;5;129;01mnot\u001b[39;00m add_to_git_credential:\n\u001b[1;32m    113\u001b[0m         logger\u001b[38;5;241m.\u001b[39minfo(\n\u001b[1;32m    114\u001b[0m             \u001b[38;5;124m\"\u001b[39m\u001b[38;5;124mThe token has not been saved to the git credentials helper. Pass \u001b[39m\u001b[38;5;124m\"\u001b[39m\n\u001b[1;32m    115\u001b[0m             \u001b[38;5;124m\"\u001b[39m\u001b[38;5;124m`add_to_git_credential=True` in this function directly or \u001b[39m\u001b[38;5;124m\"\u001b[39m\n\u001b[1;32m    116\u001b[0m             \u001b[38;5;124m\"\u001b[39m\u001b[38;5;124m`--add-to-git-credential` if using via `huggingface-cli` if \u001b[39m\u001b[38;5;124m\"\u001b[39m\n\u001b[1;32m    117\u001b[0m             \u001b[38;5;124m\"\u001b[39m\u001b[38;5;124myou want to set the git credential as well.\u001b[39m\u001b[38;5;124m\"\u001b[39m\n\u001b[1;32m    118\u001b[0m         )\n\u001b[0;32m--> 119\u001b[0m     \u001b[43m_login\u001b[49m\u001b[43m(\u001b[49m\u001b[43mtoken\u001b[49m\u001b[43m,\u001b[49m\u001b[43m \u001b[49m\u001b[43madd_to_git_credential\u001b[49m\u001b[38;5;241;43m=\u001b[39;49m\u001b[43madd_to_git_credential\u001b[49m\u001b[43m,\u001b[49m\u001b[43m \u001b[49m\u001b[43mwrite_permission\u001b[49m\u001b[38;5;241;43m=\u001b[39;49m\u001b[43mwrite_permission\u001b[49m\u001b[43m)\u001b[49m\n\u001b[1;32m    120\u001b[0m \u001b[38;5;28;01melif\u001b[39;00m is_notebook():\n\u001b[1;32m    121\u001b[0m     notebook_login(new_session\u001b[38;5;241m=\u001b[39mnew_session, write_permission\u001b[38;5;241m=\u001b[39mwrite_permission)\n",
      "File \u001b[0;32m~/env/lib/python3.10/site-packages/huggingface_hub/_login.py:410\u001b[0m, in \u001b[0;36m_login\u001b[0;34m(token, add_to_git_credential, write_permission)\u001b[0m\n\u001b[1;32m    408\u001b[0m _save_token(token\u001b[38;5;241m=\u001b[39mtoken, token_name\u001b[38;5;241m=\u001b[39mtoken_name)\n\u001b[1;32m    409\u001b[0m \u001b[38;5;66;03m# Set active token\u001b[39;00m\n\u001b[0;32m--> 410\u001b[0m \u001b[43m_set_active_token\u001b[49m\u001b[43m(\u001b[49m\u001b[43mtoken_name\u001b[49m\u001b[38;5;241;43m=\u001b[39;49m\u001b[43mtoken_name\u001b[49m\u001b[43m,\u001b[49m\u001b[43m \u001b[49m\u001b[43madd_to_git_credential\u001b[49m\u001b[38;5;241;43m=\u001b[39;49m\u001b[43madd_to_git_credential\u001b[49m\u001b[43m)\u001b[49m\n\u001b[1;32m    411\u001b[0m logger\u001b[38;5;241m.\u001b[39minfo(\u001b[38;5;124m\"\u001b[39m\u001b[38;5;124mLogin successful.\u001b[39m\u001b[38;5;124m\"\u001b[39m)\n\u001b[1;32m    412\u001b[0m \u001b[38;5;28;01mif\u001b[39;00m _get_token_from_environment():\n",
      "File \u001b[0;32m~/env/lib/python3.10/site-packages/huggingface_hub/_login.py:455\u001b[0m, in \u001b[0;36m_set_active_token\u001b[0;34m(token_name, add_to_git_credential)\u001b[0m\n\u001b[1;32m    453\u001b[0m token \u001b[38;5;241m=\u001b[39m _get_token_by_name(token_name)\n\u001b[1;32m    454\u001b[0m \u001b[38;5;28;01mif\u001b[39;00m \u001b[38;5;129;01mnot\u001b[39;00m token:\n\u001b[0;32m--> 455\u001b[0m     \u001b[38;5;28;01mraise\u001b[39;00m \u001b[38;5;167;01mValueError\u001b[39;00m(\u001b[38;5;124mf\u001b[39m\u001b[38;5;124m\"\u001b[39m\u001b[38;5;124mToken \u001b[39m\u001b[38;5;132;01m{\u001b[39;00mtoken_name\u001b[38;5;132;01m}\u001b[39;00m\u001b[38;5;124m not found in \u001b[39m\u001b[38;5;132;01m{\u001b[39;00mconstants\u001b[38;5;241m.\u001b[39mHF_STORED_TOKENS_PATH\u001b[38;5;132;01m}\u001b[39;00m\u001b[38;5;124m\"\u001b[39m)\n\u001b[1;32m    456\u001b[0m \u001b[38;5;28;01mif\u001b[39;00m add_to_git_credential:\n\u001b[1;32m    457\u001b[0m     \u001b[38;5;28;01mif\u001b[39;00m _is_git_credential_helper_configured():\n",
      "\u001b[0;31mValueError\u001b[0m: Token bored-dash not found in /home/hilles/.cache/huggingface/stored_tokens"
     ]
    }
   ],
   "source": [
    "# not sure you need that\n",
    "from huggingface_hub import login\n",
    "access_token_read = \"\"\n",
    "login(token = access_token_read)\n"
   ]
  },
  {
   "cell_type": "code",
   "execution_count": 2,
   "metadata": {},
   "outputs": [
    {
     "name": "stderr",
     "output_type": "stream",
     "text": [
      "Loading checkpoint shards: 100%|██████████| 2/2 [00:13<00:00,  6.65s/it]\n"
     ]
    },
    {
     "name": "stdout",
     "output_type": "stream",
     "text": [
      "<s>[INST] Can you write me a text about data science? [/INST]  Certainly! Here is a general text about data science:\n",
      "\n",
      "Data science is a field that combines statistical analysis, computer programming, and domain-specific knowledge to extract insights and knowledge from data. It involves using various techniques, such as data mining, machine learning, and data visualization, to uncover patterns and trends in large and complex datasets.\n",
      "\n",
      "Data science is a multidisciplinary field that draws on concepts from a variety of areas, including:\n",
      "\n",
      "* Statistics: Data science relies heavily on statistical methods for analyzing and modeling data. Statistical techniques such as hypothesis testing, regression analysis, and time series analysis are used to understand the relationships between variables and make predictions.\n",
      "* Computer Science: Data science involves working with large datasets, which requires advanced computer programming skills. Data scientists use programming languages such as Python, R, and SQL to manipulate and analyze data.\n",
      "* Domain Knowledge: Data science is applied to a wide range of domains, including healthcare, finance, marketing, and more. Data scientists must have a deep understanding of the domain they are working in to identify important questions and develop relevant models.\n",
      "\n",
      "Some of the key tasks that data scientists perform\n"
     ]
    }
   ],
   "source": [
    "import transformers\n",
    "import torch\n",
    "\n",
    "\n",
    "model_id=\"meta-llama/Llama-2-7b-chat-hf\"\n",
    "\n",
    "pipeline = transformers.pipeline(\n",
    "    \"text-generation\",\n",
    "    model=model_id,\n",
    "    model_kwargs={\"torch_dtype\": torch.bfloat16},\n",
    "    device_map=\"auto\"\n",
    ")\n",
    "keywords=\"data science\"\n",
    "prompt = f\"Can you write me a text about {keywords}?\"\n",
    "\n",
    "outputs = pipeline(\n",
    "    f\"<s>[INST] {prompt} [/INST]\",\n",
    "    max_new_tokens=256,\n",
    ")\n",
    "\n",
    "print(outputs[0][\"generated_text\"])"
   ]
  },
  {
   "cell_type": "code",
   "execution_count": 7,
   "metadata": {},
   "outputs": [
    {
     "name": "stderr",
     "output_type": "stream",
     "text": [
      "Loading checkpoint shards:   0%|          | 0/4 [00:00<?, ?it/s]"
     ]
    },
    {
     "name": "stderr",
     "output_type": "stream",
     "text": [
      "Loading checkpoint shards: 100%|██████████| 4/4 [00:04<00:00,  1.14s/it]\n",
      "Setting `pad_token_id` to `eos_token_id`:None for open-end generation.\n"
     ]
    },
    {
     "name": "stdout",
     "output_type": "stream",
     "text": [
      "Can you write me a text explaining data science? I would like to have something that is more accessible than the Wikipedia article.\n",
      "Data Science, as with many fields of study and practice in today's world has multiple definitions. However it can be defined by what Data Scientists do which includes:\n",
      "  1. Extracting meaningful information from large amounts (Big) datasets using machine learning techniques\n",
      "    2. Using statistical methods for analyzing relationships between variables within those Big Datasets,\n",
      "      - e.g., correlation analysis or regression models;\n",
      "and/or visualizing patterns found through these analyses via tools such us Tableau Public Software Application Program Interface API etc..\n",
      "For instance one might use R Studio IDE Integrated Development Environment software application program interface api tool kit library package extension module plugin add-on component feature enhancement update upgrade version release edition revision iteration improvement modification change alteration adjustment correction fix repair remedy solution answer resolution outcome conclusion result impact effect consequence repercussion ramification aftereffect aftermath upshot denouement finale endgame payoff pay-off payout recompense reward remuneration compensation indemnity reimbursement restitution satisfaction gratuity bonus prize award trophy accolade laurel wreath crown palm branch olive leaf oak acorn chestnut hazelnut walnut almond pistachio pecan macadamia nut cashew brazilian nuts coconut pineapple mango papaya banana kiwi strawberry blueberry\n"
     ]
    }
   ],
   "source": [
    "import transformers\n",
    "import torch\n",
    "\n",
    "\n",
    "model_id=\"meta-llama/Llama-3.1-8B\"\n",
    "\n",
    "pipeline = transformers.pipeline(\n",
    "    \"text-generation\",\n",
    "    model=model_id,\n",
    "    model_kwargs={\"torch_dtype\": torch.bfloat16},\n",
    "    device_map=\"auto\"\n",
    ")\n",
    "keywords=\"data science\"\n",
    "prompt = f\"Can you write me a text explaining {keywords}?\" #had to add the word explaining\n",
    "\n",
    "outputs = pipeline(\n",
    "    f\"{prompt}\",\n",
    "    max_new_tokens=256,\n",
    "    repetition_penalty=1.5,\n",
    ")\n",
    "\n",
    "print(outputs[0][\"generated_text\"])"
   ]
  }
 ],
 "metadata": {
  "kernelspec": {
   "display_name": "env",
   "language": "python",
   "name": "python3"
  },
  "language_info": {
   "codemirror_mode": {
    "name": "ipython",
    "version": 3
   },
   "file_extension": ".py",
   "mimetype": "text/x-python",
   "name": "python",
   "nbconvert_exporter": "python",
   "pygments_lexer": "ipython3",
   "version": "3.10.12"
  }
 },
 "nbformat": 4,
 "nbformat_minor": 2
}
